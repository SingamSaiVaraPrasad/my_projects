{
  "nbformat": 4,
  "nbformat_minor": 0,
  "metadata": {
    "colab": {
      "provenance": [],
      "authorship_tag": "ABX9TyNqb7iyEC725IC7TnNpn430",
      "include_colab_link": true
    },
    "kernelspec": {
      "name": "python3",
      "display_name": "Python 3"
    },
    "language_info": {
      "name": "python"
    }
  },
  "cells": [
    {
      "cell_type": "markdown",
      "metadata": {
        "id": "view-in-github",
        "colab_type": "text"
      },
      "source": [
        "<a href=\"https://colab.research.google.com/github/SingamSaiVaraPrasad/my_projects/blob/main/My_neural_network.ipynb\" target=\"_parent\"><img src=\"https://colab.research.google.com/assets/colab-badge.svg\" alt=\"Open In Colab\"/></a>"
      ]
    },
    {
      "cell_type": "code",
      "execution_count": 1,
      "metadata": {
        "id": "Dd4M3oh0mT8X"
      },
      "outputs": [],
      "source": [
        "import numpy as np"
      ]
    },
    {
      "cell_type": "code",
      "source": [
        "#initialize parameters i.e. weights and biases\n",
        "def initparam(layerdims):\n",
        "  params={}\n",
        "  np.random.seed(3)\n",
        "  for l in range(1,len(layerdims)):\n",
        "    params['W'+str(l)]=np.random.rand(layerdims[l],layerdims[l-1])*0.01\n",
        "    params['B'+str(l)]=np.zeros(layerdims[l],1)\n",
        "  return params\n"
      ],
      "metadata": {
        "id": "MyaANgSsd57n"
      },
      "execution_count": 2,
      "outputs": []
    },
    {
      "cell_type": "code",
      "source": [
        "def activation(z):\n",
        "  powered=np.dot(-1,z)\n",
        "  ans=1/(np.exp(powered))\n",
        "  return ans"
      ],
      "metadata": {
        "id": "0v3BH4ictwGC"
      },
      "execution_count": 3,
      "outputs": []
    },
    {
      "cell_type": "code",
      "source": [],
      "metadata": {
        "id": "HYEHTPiluwU7"
      },
      "execution_count": null,
      "outputs": []
    }
  ]
}